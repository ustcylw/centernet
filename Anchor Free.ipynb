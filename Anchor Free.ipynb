{
 "cells": [
  {
   "cell_type": "markdown",
   "id": "6697e995-c12e-447c-b0f7-1bf1cbf4ca15",
   "metadata": {},
   "source": [
    "# Anchor Free的目标检测算法"
   ]
  },
  {
   "cell_type": "markdown",
   "id": "9b1161ab-fdff-43a3-b6d2-d60f38b5d383",
   "metadata": {},
   "source": [
    "refs:\n",
    "\n",
    "[Anchor Free的目标检测算法之CornerNet、ExtremeNet、CenterNet、FSAF、FCOS、FoveaBox](https://blog.csdn.net/qq_37002417/article/details/106764470?utm_medium=distribute.pc_aggpage_search_result.none-task-blog-2~aggregatepage~first_rank_ecpm_v1~rank_v31_ecpm-10-106764470.pc_agg_new_rank&utm_term=centernet%E5%8D%8A%E5%BE%84&spm=1000.2123.3001.4430)"
   ]
  },
  {
   "cell_type": "code",
   "execution_count": null,
   "id": "6f7d8341-1498-4e03-93f9-ea796c4f3778",
   "metadata": {},
   "outputs": [],
   "source": []
  }
 ],
 "metadata": {
  "kernelspec": {
   "display_name": "“autodrive”",
   "language": "python",
   "name": "autodrive"
  },
  "language_info": {
   "codemirror_mode": {
    "name": "ipython",
    "version": 3
   },
   "file_extension": ".py",
   "mimetype": "text/x-python",
   "name": "python",
   "nbconvert_exporter": "python",
   "pygments_lexer": "ipython3",
   "version": "3.8.12"
  }
 },
 "nbformat": 4,
 "nbformat_minor": 5
}
