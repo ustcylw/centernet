{
 "cells": [
  {
   "cell_type": "markdown",
   "id": "c22ccf3d-5744-47fd-9bc0-9434d615cd07",
   "metadata": {},
   "source": [
    "# centernet"
   ]
  },
  {
   "cell_type": "markdown",
   "id": "3438da7d-c9e0-4882-a931-83a67a7f39f9",
   "metadata": {},
   "source": [
    "refs:\n",
    "\n",
    "[3D版CenterNet: CenterPoint，小修小改也能刷爆榜单](https://blog.csdn.net/Yong_Qi2015/article/details/108396159?utm_medium=distribute.pc_aggpage_search_result.none-task-blog-2~aggregatepage~first_rank_ecpm_v1~rank_v31_ecpm-9-108396159.pc_agg_new_rank&utm_term=centernet%E5%8D%8A%E5%BE%84&spm=1000.2123.3001.4430)"
   ]
  },
  {
   "cell_type": "code",
   "execution_count": null,
   "id": "96e36fd6-f7f7-4a13-b3ea-b41d86a3bd4c",
   "metadata": {},
   "outputs": [],
   "source": []
  }
 ],
 "metadata": {
  "kernelspec": {
   "display_name": "“autodrive”",
   "language": "python",
   "name": "autodrive"
  },
  "language_info": {
   "codemirror_mode": {
    "name": "ipython",
    "version": 3
   },
   "file_extension": ".py",
   "mimetype": "text/x-python",
   "name": "python",
   "nbconvert_exporter": "python",
   "pygments_lexer": "ipython3",
   "version": "3.8.12"
  }
 },
 "nbformat": 4,
 "nbformat_minor": 5
}
