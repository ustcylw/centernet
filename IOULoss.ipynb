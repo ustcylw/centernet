{
 "cells": [
  {
   "cell_type": "markdown",
   "id": "ccc7b29c-56a9-44a2-966c-c1d9a3b5d962",
   "metadata": {},
   "source": [
    "IOU Loss"
   ]
  },
  {
   "cell_type": "markdown",
   "id": "93ea507a-d24a-4b93-8eb1-6f5832b2b638",
   "metadata": {},
   "source": [
    "refs:\n",
    "\n",
    "[IoU、GIoU、DIoU、CIoU](https://zhuanlan.zhihu.com/p/142755610)\n",
    "\n",
    "[IOU、GIOU、DIOU、CIOU损失函数详解](https://zhuanlan.zhihu.com/p/359982543)\n"
   ]
  },
  {
   "cell_type": "markdown",
   "id": "27771b2a-22cf-481a-879b-ba0b968413f5",
   "metadata": {},
   "source": []
  }
 ],
 "metadata": {
  "kernelspec": {
   "display_name": "“autodrive”",
   "language": "python",
   "name": "autodrive"
  },
  "language_info": {
   "codemirror_mode": {
    "name": "ipython",
    "version": 3
   },
   "file_extension": ".py",
   "mimetype": "text/x-python",
   "name": "python",
   "nbconvert_exporter": "python",
   "pygments_lexer": "ipython3",
   "version": "3.8.12"
  }
 },
 "nbformat": 4,
 "nbformat_minor": 5
}
